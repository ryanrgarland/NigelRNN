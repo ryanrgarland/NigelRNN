{
 "cells": [
  {
   "cell_type": "code",
   "execution_count": null,
   "metadata": {
    "collapsed": true
   },
   "outputs": [],
   "source": [
    "import urllib2\n",
    "from bs4 import BeautifulSoup\n",
    "import pdb\n",
    "import numpy as np\n",
    "import pickle"
   ]
  },
  {
   "cell_type": "code",
   "execution_count": null,
   "metadata": {
    "collapsed": true
   },
   "outputs": [],
   "source": [
    "npages=422\n",
    "# max page is 422"
   ]
  },
  {
   "cell_type": "code",
   "execution_count": null,
   "metadata": {},
   "outputs": [],
   "source": [
    "recipelinks = []\n",
    "\n",
    "# loop through pages to find recipe links\n",
    "\n",
    "for i in range(npages):\n",
    " if i==0: \n",
    "# page to parse recipes from\n",
    "  quote_page = 'https://www.theguardian.com/tone/recipes/all'\n",
    "# https://www.theguardian.com/tone/recipes?page=2 other pages up to 401.\n",
    " else:\n",
    "  quote_page = 'https://www.theguardian.com/tone/recipes?page=' + str(i)\n",
    "# load page\n",
    "  page = urllib2.urlopen(quote_page)\n",
    "\n",
    "# parse HTML\n",
    "  soup = BeautifulSoup(page, 'html.parser')\n",
    "\n",
    "  for link in soup.find_all('a'):\n",
    "      recipelink = link.get('href')\n",
    "      sub1 = 'https://www.theguardian.com/tone/recipes/20' \n",
    "      sub2 = 'https://www.theguardian.com/lifeandstyle/20'\n",
    "      sub3 = '/all'\n",
    "      try:\n",
    "       if ( recipelink.find(sub1) and recipelink.find(sub2) ) != -1:\n",
    "        if ( recipelink.find(sub3) == -1):\n",
    "         print(recipelink)\n",
    "         recipelinks = np.append(recipelinks,recipelink)\n",
    "      except:\n",
    "       continue"
   ]
  },
  {
   "cell_type": "code",
   "execution_count": null,
   "metadata": {
    "collapsed": true
   },
   "outputs": [],
   "source": [
    "# recipes repeated for some reason\n",
    "recipelinks = recipelinks[::2]\n",
    "pickle.dump(recipelinks, open('recipelinks.pic', 'wb') )"
   ]
  }
 ],
 "metadata": {
  "kernelspec": {
   "display_name": "Python 2",
   "language": "python",
   "name": "python2"
  },
  "language_info": {
   "codemirror_mode": {
    "name": "ipython",
    "version": 2
   },
   "file_extension": ".py",
   "mimetype": "text/x-python",
   "name": "python",
   "nbconvert_exporter": "python",
   "pygments_lexer": "ipython2",
   "version": "2.7.14"
  }
 },
 "nbformat": 4,
 "nbformat_minor": 2
}
