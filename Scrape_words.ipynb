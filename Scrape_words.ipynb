{
 "cells": [
  {
   "cell_type": "code",
   "execution_count": null,
   "metadata": {
    "collapsed": true
   },
   "outputs": [],
   "source": [
    "import urllib2\n",
    "from bs4 import BeautifulSoup\n",
    "import numpy as np\n",
    "import pdb\n",
    "import pickle"
   ]
  },
  {
   "cell_type": "code",
   "execution_count": null,
   "metadata": {
    "collapsed": true
   },
   "outputs": [],
   "source": [
    "recipelinks = pickle.load( open('recipelinks.pic','rb') )\n",
    "words = []"
   ]
  },
  {
   "cell_type": "code",
   "execution_count": null,
   "metadata": {},
   "outputs": [],
   "source": [
    "for i in range(5000):\n",
    " quote_page = str(recipelinks[i])\n",
    " page = urllib2.urlopen(quote_page)\n",
    "# parse HTML\n",
    " soup = BeautifulSoup(page, 'html.parser')\n",
    " for br in soup.find_all(\"br\"):\n",
    "    br.replace_with(\"\\n\")\n",
    "# find author and date\n",
    " name_box = soup.find(attrs={'rel': 'author'})\n",
    " try:\n",
    "  author = name_box.text.strip()\n",
    " except:\n",
    "  author = ' '\n",
    "\n",
    " if(author!='Nigel Slater'):\n",
    "  continue\n",
    "\n",
    " main_text = soup.find(attrs={'itemprop': 'articleBody'})\n",
    "# strip away time and extra stuff\n",
    " main_text = main_text.text.strip()\n",
    "\n",
    "# find ingredients and measurements\n",
    " for main_text in soup.find_all('p'):\n",
    "     word = main_text.text\n",
    "     if(word!=u'Email Nigel at nigel.slater@observer.co.uk or follow him on Twitter @NigelSlater'):\n",
    "      print word\n",
    "      words = np.append(words,word)"
   ]
  },
  {
   "cell_type": "code",
   "execution_count": null,
   "metadata": {
    "collapsed": true
   },
   "outputs": [],
   "source": [
    "# save words\n",
    "pickle.dump(words, open('NS_words.pic','wb'))"
   ]
  }
 ],
 "metadata": {
  "kernelspec": {
   "display_name": "Python 2",
   "language": "python",
   "name": "python2"
  },
  "language_info": {
   "codemirror_mode": {
    "name": "ipython",
    "version": 2
   },
   "file_extension": ".py",
   "mimetype": "text/x-python",
   "name": "python",
   "nbconvert_exporter": "python",
   "pygments_lexer": "ipython2",
   "version": "2.7.14"
  }
 },
 "nbformat": 4,
 "nbformat_minor": 2
}
